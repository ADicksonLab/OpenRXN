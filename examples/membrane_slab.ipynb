{
 "cells": [
  {
   "cell_type": "markdown",
   "metadata": {},
   "source": [
    "# OpenRXN Example: Membrane slab\n",
    "\n",
    "### This notebook demostrates how a complicated system can be set up easily with the OpenRXN package\n",
    "\n",
    "We are interested in setting up a 3D system with a membrane slab at the bottom (both lower and upper leaflets), and a bulk region on top.  There will be three Species in our model (drug, receptor and drug-receptor complex), with only the drug allowed to move around in the bulk.  The receptor and drug-receptor complex are assumed to be locked in the membrane region.\n",
    "\n",
    "**Our goal here is to build a model that describes both:**   \n",
    "1) The diffusion of the drug both in the membrane and the bulk   \n",
    "2) The binding of the drug to the receptor   \n",
    "\n",
    "First we import the necessary things from the OpenRXN package:"
   ]
  },
  {
   "cell_type": "code",
   "execution_count": 1,
   "metadata": {},
   "outputs": [],
   "source": [
    "from openrxn.reactions import Reaction, Species\n",
    "from openrxn.compartments.arrays import CompartmentArray3D\n",
    "from openrxn.connections import IsotropicConnection, AnisotropicConnection, FicksConnection\n",
    "from openrxn.model import Model\n",
    "\n",
    "import pint\n",
    "unit = pint.UnitRegistry()\n",
    "\n",
    "import numpy as np"
   ]
  },
  {
   "cell_type": "markdown",
   "metadata": {},
   "source": [
    "Then we define the Species objects to use in our model."
   ]
  },
  {
   "cell_type": "code",
   "execution_count": 2,
   "metadata": {},
   "outputs": [],
   "source": [
    "drug = Species('drug')\n",
    "receptor = Species('receptor')\n",
    "dr_complex  = Species('complex')"
   ]
  },
  {
   "cell_type": "markdown",
   "metadata": {},
   "source": [
    "In OpenRXN, we can define Reaction objects as follows:"
   ]
  },
  {
   "cell_type": "code",
   "execution_count": null,
   "metadata": {},
   "outputs": [],
   "source": [
    "Reaction?"
   ]
  },
  {
   "cell_type": "code",
   "execution_count": 3,
   "metadata": {},
   "outputs": [],
   "source": [
    "kon = 1e6/(unit.molar*unit.sec)\n",
    "koff = 0.1/unit.sec\n",
    "\n",
    "binding = Reaction('binding',[drug,receptor],[dr_complex],[1,1],[1],kf=kon,kr=koff)"
   ]
  },
  {
   "cell_type": "code",
   "execution_count": 4,
   "metadata": {},
   "outputs": [
    {
     "data": {
      "text/plain": [
       "'drug + receptor <--->complex  // kr = 0.1 / second // kf = 1000000.0 / molar / second'"
      ]
     },
     "execution_count": 4,
     "metadata": {},
     "output_type": "execute_result"
    }
   ],
   "source": [
    "binding.display()"
   ]
  },
  {
   "cell_type": "markdown",
   "metadata": {},
   "source": [
    "The biggest utility of OpenRXN lies in the ability to create compartments (and arrays of compartments) within which these reactions can occur.  Species can also diffuse between compartments with specified rates."
   ]
  },
  {
   "cell_type": "code",
   "execution_count": 5,
   "metadata": {},
   "outputs": [],
   "source": [
    "conn_in_slab = FicksConnection({'drug' : 1e-8*unit.cm**2/unit.sec})\n",
    "\n",
    "x_pos = np.linspace(-50,50,101)*unit.nanometer\n",
    "y_pos = np.linspace(-50,50,101)*unit.nanometer\n",
    "z_pos1 = np.array([-1,0])*unit.nanometer\n",
    "lower_slab = CompartmentArray3D('lower_slab',x_pos,y_pos,z_pos1,conn_in_slab,periodic=[True,True,False])"
   ]
  },
  {
   "cell_type": "markdown",
   "metadata": {},
   "source": [
    "This created a 3D array of compartments with positions as specified by x_pos, y_pos and z_pos1.  It is periodic in the x and y dimensions, and the compartments are automatically connected:"
   ]
  },
  {
   "cell_type": "code",
   "execution_count": 9,
   "metadata": {},
   "outputs": [
    {
     "data": {
      "text/plain": [
       "{'lower_slab-1_0_0': (<openrxn.compartments.compartment.Compartment at 0x7ff9b08b4588>,\n",
       "  <openrxn.connections.FicksConnection at 0x7ff9c04e4160>),\n",
       " 'lower_slab-0_1_0': (<openrxn.compartments.compartment.Compartment at 0x7ff9b0811278>,\n",
       "  <openrxn.connections.FicksConnection at 0x7ff9c04e4160>),\n",
       " 'lower_slab-99_0_0': (<openrxn.compartments.compartment.Compartment at 0x7ff9c0f17320>,\n",
       "  <openrxn.connections.FicksConnection at 0x7ff9c04e4160>),\n",
       " 'lower_slab-0_99_0': (<openrxn.compartments.compartment.Compartment at 0x7ff9b08b42b0>,\n",
       "  <openrxn.connections.FicksConnection at 0x7ff9c04e4160>)}"
      ]
     },
     "execution_count": 9,
     "metadata": {},
     "output_type": "execute_result"
    }
   ],
   "source": [
    "lower_slab.compartments[(0,0,0)].connections"
   ]
  },
  {
   "cell_type": "code",
   "execution_count": 10,
   "metadata": {},
   "outputs": [
    {
     "data": {
      "text/plain": [
       "[(-50.0 <Unit('nanometer')>, -49.0 <Unit('nanometer')>),\n",
       " (-50.0 <Unit('nanometer')>, -49.0 <Unit('nanometer')>),\n",
       " (-1 <Unit('nanometer')>, 0 <Unit('nanometer')>)]"
      ]
     },
     "execution_count": 10,
     "metadata": {},
     "output_type": "execute_result"
    }
   ],
   "source": [
    "lower_slab.compartments[(0,0,0)].pos"
   ]
  },
  {
   "cell_type": "markdown",
   "metadata": {},
   "source": [
    "Let's create another 3D array for the upper slab:"
   ]
  },
  {
   "cell_type": "code",
   "execution_count": 12,
   "metadata": {},
   "outputs": [],
   "source": [
    "z_pos2 = np.array([0,1])*unit.nanometer\n",
    "upper_slab = CompartmentArray3D('upper_slab',x_pos,y_pos,z_pos2,conn_in_slab,periodic=[True,True,False])"
   ]
  },
  {
   "cell_type": "markdown",
   "metadata": {},
   "source": [
    "And now we can define another connection type for between the slabs: "
   ]
  },
  {
   "cell_type": "code",
   "execution_count": 13,
   "metadata": {},
   "outputs": [],
   "source": [
    "conn_between_slab = IsotropicConnection({'drug' : 1e-5/unit.sec})"
   ]
  },
  {
   "cell_type": "markdown",
   "metadata": {},
   "source": [
    "Then use the join3D method to make connections between our 3D compartment arrays:"
   ]
  },
  {
   "cell_type": "code",
   "execution_count": 14,
   "metadata": {},
   "outputs": [],
   "source": [
    "lower_slab.join3D(upper_slab,conn_between_slab,append_side='z+')"
   ]
  },
  {
   "cell_type": "markdown",
   "metadata": {},
   "source": [
    "Now let's define a bulk compartment array, and connect it to the upper slab:"
   ]
  },
  {
   "cell_type": "code",
   "execution_count": 15,
   "metadata": {},
   "outputs": [],
   "source": [
    "conn_bulk_to_bulk = FicksConnection({'drug' : 1e-5*unit.cm**2/unit.sec})\n",
    "z_pos3 = np.linspace(1,25,23)*unit.nanometer\n",
    "\n",
    "bulk = CompartmentArray3D('bulk',x_pos,y_pos,z_pos3,conn_bulk_to_bulk,periodic=[True,True,False])\n",
    "\n",
    "conn_slab_to_bulk = AnisotropicConnection({'drug' : (1e-5/unit.sec, 1e-1/unit.sec)})\n",
    "bulk.join3D(upper_slab,conn_slab_to_bulk,append_side='z-')"
   ]
  },
  {
   "cell_type": "markdown",
   "metadata": {},
   "source": [
    "Now we can put all this together in a \"Model\" object:"
   ]
  },
  {
   "cell_type": "code",
   "execution_count": 16,
   "metadata": {},
   "outputs": [],
   "source": [
    "my_model = Model([lower_slab,upper_slab,bulk])"
   ]
  },
  {
   "cell_type": "code",
   "execution_count": 18,
   "metadata": {},
   "outputs": [
    {
     "data": {
      "text/plain": [
       "{'lower_slab': <openrxn.compartments.arrays.CompartmentArray3D at 0x7ff9b082dc50>,\n",
       " 'upper_slab': <openrxn.compartments.arrays.CompartmentArray3D at 0x7ff9d19e5710>,\n",
       " 'bulk': <openrxn.compartments.arrays.CompartmentArray3D at 0x7ff9a2491dd8>}"
      ]
     },
     "execution_count": 18,
     "metadata": {},
     "output_type": "execute_result"
    }
   ],
   "source": [
    "my_model.arrays"
   ]
  },
  {
   "cell_type": "markdown",
   "metadata": {},
   "source": [
    "In order to visualize the connections between the compartments, and to turn this model into a \"system\" that can be integrated forward in time, we turn it into a \"FlatModel\" using the flatten() method:"
   ]
  },
  {
   "cell_type": "code",
   "execution_count": 19,
   "metadata": {},
   "outputs": [],
   "source": [
    "my_flat_model = my_model.flatten()"
   ]
  },
  {
   "cell_type": "code",
   "execution_count": 20,
   "metadata": {},
   "outputs": [
    {
     "data": {
      "text/plain": [
       "240000"
      ]
     },
     "execution_count": 20,
     "metadata": {},
     "output_type": "execute_result"
    }
   ],
   "source": [
    "len(my_flat_model.compartments)"
   ]
  },
  {
   "cell_type": "code",
   "execution_count": 22,
   "metadata": {},
   "outputs": [],
   "source": [
    "b000 = my_flat_model.compartments['bulk-0_0_0']"
   ]
  },
  {
   "cell_type": "code",
   "execution_count": 23,
   "metadata": {},
   "outputs": [
    {
     "data": {
      "text/plain": [
       "{'bulk-1_0_0': (<openrxn.compartments.compartment.Compartment at 0x7ff9b1fc5f98>,\n",
       "  <openrxn.connections.IsotropicConnection at 0x7ff93347ec88>),\n",
       " 'bulk-0_1_0': (<openrxn.compartments.compartment.Compartment at 0x7ff9b1ec1f28>,\n",
       "  <openrxn.connections.IsotropicConnection at 0x7ff93347ea58>),\n",
       " 'bulk-0_0_1': (<openrxn.compartments.compartment.Compartment at 0x7ff9b1eb54e0>,\n",
       "  <openrxn.connections.IsotropicConnection at 0x7ff93347eb70>),\n",
       " 'bulk-99_0_0': (<openrxn.compartments.compartment.Compartment at 0x7ff96f42bcc0>,\n",
       "  <openrxn.connections.IsotropicConnection at 0x7ff93347ed30>),\n",
       " 'bulk-0_99_0': (<openrxn.compartments.compartment.Compartment at 0x7ff9b1fb72e8>,\n",
       "  <openrxn.connections.IsotropicConnection at 0x7ff93347edd8>),\n",
       " 'upper_slab-0_0_0': (<openrxn.compartments.compartment.Compartment at 0x7ff9c151fc18>,\n",
       "  <openrxn.connections.AnisotropicConnection at 0x7ff96f42ba90>)}"
      ]
     },
     "execution_count": 23,
     "metadata": {},
     "output_type": "execute_result"
    }
   ],
   "source": [
    "b000.connections"
   ]
  },
  {
   "cell_type": "code",
   "execution_count": null,
   "metadata": {},
   "outputs": [],
   "source": []
  }
 ],
 "metadata": {
  "kernelspec": {
   "display_name": "Python 3",
   "language": "python",
   "name": "python3"
  },
  "language_info": {
   "codemirror_mode": {
    "name": "ipython",
    "version": 3
   },
   "file_extension": ".py",
   "mimetype": "text/x-python",
   "name": "python",
   "nbconvert_exporter": "python",
   "pygments_lexer": "ipython3",
   "version": "3.7.3"
  }
 },
 "nbformat": 4,
 "nbformat_minor": 2
}
